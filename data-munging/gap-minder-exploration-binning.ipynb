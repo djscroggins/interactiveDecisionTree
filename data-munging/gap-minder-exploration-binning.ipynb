{
 "cells": [
  {
   "cell_type": "code",
   "execution_count": 1,
   "metadata": {
    "collapsed": true
   },
   "outputs": [],
   "source": [
    "import matplotlib.pyplot as plt\n",
    "import pandas as pd"
   ]
  },
  {
   "cell_type": "code",
   "execution_count": 2,
   "metadata": {
    "collapsed": true
   },
   "outputs": [],
   "source": [
    "df = pd.read_csv('gapMinder.csv')"
   ]
  },
  {
   "cell_type": "code",
   "execution_count": 5,
   "metadata": {},
   "outputs": [
    {
     "data": {
      "text/plain": [
       "(127, 71)"
      ]
     },
     "execution_count": 5,
     "metadata": {},
     "output_type": "execute_result"
    }
   ],
   "source": [
    "df.shape"
   ]
  },
  {
   "cell_type": "code",
   "execution_count": 3,
   "metadata": {},
   "outputs": [
    {
     "data": {
      "text/plain": [
       "count    127.000000\n",
       "mean      73.867874\n",
       "std        7.018941\n",
       "min       58.360000\n",
       "25%       68.695000\n",
       "50%       75.490000\n",
       "75%       79.595000\n",
       "max       84.030000\n",
       "Name: life_expectancy_years, dtype: float64"
      ]
     },
     "execution_count": 3,
     "metadata": {},
     "output_type": "execute_result"
    }
   ],
   "source": [
    "df.life_expectancy_years.describe()"
   ]
  },
  {
   "cell_type": "code",
   "execution_count": 4,
   "metadata": {},
   "outputs": [
    {
     "data": {
      "text/plain": [
       "array([[<matplotlib.axes._subplots.AxesSubplot object at 0x11b6f4828>]],\n",
       "      dtype=object)"
      ]
     },
     "execution_count": 4,
     "metadata": {},
     "output_type": "execute_result"
    },
    {
     "data": {
      "image/png": "[encoded data removed]",
      "text/plain": [
       "<Figure size 432x288 with 1 Axes>"
      ]
     },
     "metadata": {
      "needs_background": "light"
     },
     "output_type": "display_data"
    }
   ],
   "source": [
    "df.hist(column='life_expectancy_years')"
   ]
  },
  {
   "cell_type": "code",
   "execution_count": 5,
   "metadata": {},
   "outputs": [
    {
     "data": {
      "text/html": [
       "<div>\n",
       "<style scoped>\n",
       "    .dataframe tbody tr th:only-of-type {\n",
       "        vertical-align: middle;\n",
       "    }\n",
       "\n",
       "    .dataframe tbody tr th {\n",
       "        vertical-align: top;\n",
       "    }\n",
       "\n",
       "    .dataframe thead th {\n",
       "        text-align: right;\n",
       "    }\n",
       "</style>\n",
       "<table border=\"1\" class=\"dataframe\">\n",
       "  <thead>\n",
       "    <tr style=\"text-align: right;\">\n",
       "      <th></th>\n",
       "      <th>qcut_3</th>\n",
       "      <th>geo</th>\n",
       "      <th>name</th>\n",
       "      <th>female_industry_workers_percent_of_female_employment</th>\n",
       "      <th>crude_death_rate_deaths_per_1000_population</th>\n",
       "      <th>broadband_subscribers_per_100_people</th>\n",
       "      <th>foreign_direct_investment_net_inflows_percent_of_gdp</th>\n",
       "      <th>female_self_employed_percent_of_female_employment</th>\n",
       "      <th>female_agriculture_workers_percent_of_female_employment</th>\n",
       "      <th>life_expectancy_male</th>\n",
       "      <th>...</th>\n",
       "      <th>males_aged_15_24_employment_rate_percent</th>\n",
       "      <th>females_aged_15_64_labour_force_participation_rate_percent</th>\n",
       "      <th>children_per_woman_total_fertility_with_projections</th>\n",
       "      <th>child_mortality_0_5_year_olds_dying_per_1000_born</th>\n",
       "      <th>cell_phones_per_100_people</th>\n",
       "      <th>cell_phones_total</th>\n",
       "      <th>gnipercapita_ppp_current_international</th>\n",
       "      <th>fixed_line_subscribers_per_100_people</th>\n",
       "      <th>aged_65plus_labour_force_participation_rate_percent</th>\n",
       "      <th>inflation_annual_percent</th>\n",
       "    </tr>\n",
       "  </thead>\n",
       "  <tbody>\n",
       "    <tr>\n",
       "      <th>0</th>\n",
       "      <td>(58.3, 71.9]</td>\n",
       "      <td>afg</td>\n",
       "      <td>Afghanistan</td>\n",
       "      <td>5.524</td>\n",
       "      <td>6.587</td>\n",
       "      <td>0.04731</td>\n",
       "      <td>0.25649</td>\n",
       "      <td>69.497</td>\n",
       "      <td>73.714</td>\n",
       "      <td>62.764</td>\n",
       "      <td>...</td>\n",
       "      <td>64.350</td>\n",
       "      <td>20.268</td>\n",
       "      <td>4.106</td>\n",
       "      <td>68.248</td>\n",
       "      <td>67.35057</td>\n",
       "      <td>23929713.0</td>\n",
       "      <td>2000</td>\n",
       "      <td>0.33428</td>\n",
       "      <td>22.652</td>\n",
       "      <td>4.87344</td>\n",
       "    </tr>\n",
       "    <tr>\n",
       "      <th>1</th>\n",
       "      <td>(58.3, 71.9]</td>\n",
       "      <td>ago</td>\n",
       "      <td>Angola</td>\n",
       "      <td>1.273</td>\n",
       "      <td>8.372</td>\n",
       "      <td>0.32540</td>\n",
       "      <td>-5.95550</td>\n",
       "      <td>83.705</td>\n",
       "      <td>57.597</td>\n",
       "      <td>58.972</td>\n",
       "      <td>...</td>\n",
       "      <td>46.466</td>\n",
       "      <td>76.285</td>\n",
       "      <td>5.460</td>\n",
       "      <td>83.100</td>\n",
       "      <td>44.73498</td>\n",
       "      <td>13323952.0</td>\n",
       "      <td>6060</td>\n",
       "      <td>0.54079</td>\n",
       "      <td>66.668</td>\n",
       "      <td>31.13638</td>\n",
       "    </tr>\n",
       "    <tr>\n",
       "      <th>2</th>\n",
       "      <td>(77.7, 84.0]</td>\n",
       "      <td>alb</td>\n",
       "      <td>Albania</td>\n",
       "      <td>13.802</td>\n",
       "      <td>7.549</td>\n",
       "      <td>10.02062</td>\n",
       "      <td>7.83883</td>\n",
       "      <td>58.253</td>\n",
       "      <td>46.940</td>\n",
       "      <td>76.543</td>\n",
       "      <td>...</td>\n",
       "      <td>26.863</td>\n",
       "      <td>55.618</td>\n",
       "      <td>1.775</td>\n",
       "      <td>13.273</td>\n",
       "      <td>119.37634</td>\n",
       "      <td>3497950.0</td>\n",
       "      <td>12120</td>\n",
       "      <td>8.42984</td>\n",
       "      <td>8.151</td>\n",
       "      <td>1.37489</td>\n",
       "    </tr>\n",
       "    <tr>\n",
       "      <th>3</th>\n",
       "      <td>(71.9, 77.7]</td>\n",
       "      <td>arg</td>\n",
       "      <td>Argentina</td>\n",
       "      <td>7.823</td>\n",
       "      <td>7.560</td>\n",
       "      <td>17.77736</td>\n",
       "      <td>1.80631</td>\n",
       "      <td>19.694</td>\n",
       "      <td>0.148</td>\n",
       "      <td>72.964</td>\n",
       "      <td>...</td>\n",
       "      <td>35.772</td>\n",
       "      <td>55.340</td>\n",
       "      <td>2.125</td>\n",
       "      <td>10.944</td>\n",
       "      <td>139.81460</td>\n",
       "      <td>61897379.0</td>\n",
       "      <td>20270</td>\n",
       "      <td>21.52728</td>\n",
       "      <td>15.118</td>\n",
       "      <td>25.34918</td>\n",
       "    </tr>\n",
       "    <tr>\n",
       "      <th>4</th>\n",
       "      <td>(71.9, 77.7]</td>\n",
       "      <td>arm</td>\n",
       "      <td>Armenia</td>\n",
       "      <td>7.731</td>\n",
       "      <td>9.686</td>\n",
       "      <td>10.76009</td>\n",
       "      <td>2.16493</td>\n",
       "      <td>44.342</td>\n",
       "      <td>38.965</td>\n",
       "      <td>71.427</td>\n",
       "      <td>...</td>\n",
       "      <td>28.641</td>\n",
       "      <td>57.736</td>\n",
       "      <td>1.743</td>\n",
       "      <td>13.231</td>\n",
       "      <td>119.04397</td>\n",
       "      <td>3488524.0</td>\n",
       "      <td>10060</td>\n",
       "      <td>17.23933</td>\n",
       "      <td>23.836</td>\n",
       "      <td>2.23157</td>\n",
       "    </tr>\n",
       "  </tbody>\n",
       "</table>\n",
       "<p>5 rows × 72 columns</p>\n",
       "</div>"
      ],
      "text/plain": [
       "         qcut_3  geo         name  \\\n",
       "0  (58.3, 71.9]  afg  Afghanistan   \n",
       "1  (58.3, 71.9]  ago       Angola   \n",
       "2  (77.7, 84.0]  alb      Albania   \n",
       "3  (71.9, 77.7]  arg    Argentina   \n",
       "4  (71.9, 77.7]  arm      Armenia   \n",
       "\n",
       "   female_industry_workers_percent_of_female_employment  \\\n",
       "0                                              5.524      \n",
       "1                                              1.273      \n",
       "2                                             13.802      \n",
       "3                                              7.823      \n",
       "4                                              7.731      \n",
       "\n",
       "   crude_death_rate_deaths_per_1000_population  \\\n",
       "0                                        6.587   \n",
       "1                                        8.372   \n",
       "2                                        7.549   \n",
       "3                                        7.560   \n",
       "4                                        9.686   \n",
       "\n",
       "   broadband_subscribers_per_100_people  \\\n",
       "0                               0.04731   \n",
       "1                               0.32540   \n",
       "2                              10.02062   \n",
       "3                              17.77736   \n",
       "4                              10.76009   \n",
       "\n",
       "   foreign_direct_investment_net_inflows_percent_of_gdp  \\\n",
       "0                                            0.25649      \n",
       "1                                           -5.95550      \n",
       "2                                            7.83883      \n",
       "3                                            1.80631      \n",
       "4                                            2.16493      \n",
       "\n",
       "   female_self_employed_percent_of_female_employment  \\\n",
       "0                                             69.497   \n",
       "1                                             83.705   \n",
       "2                                             58.253   \n",
       "3                                             19.694   \n",
       "4                                             44.342   \n",
       "\n",
       "   female_agriculture_workers_percent_of_female_employment  \\\n",
       "0                                             73.714         \n",
       "1                                             57.597         \n",
       "2                                             46.940         \n",
       "3                                              0.148         \n",
       "4                                             38.965         \n",
       "\n",
       "   life_expectancy_male  ...  males_aged_15_24_employment_rate_percent  \\\n",
       "0                62.764  ...                                    64.350   \n",
       "1                58.972  ...                                    46.466   \n",
       "2                76.543  ...                                    26.863   \n",
       "3                72.964  ...                                    35.772   \n",
       "4                71.427  ...                                    28.641   \n",
       "\n",
       "   females_aged_15_64_labour_force_participation_rate_percent  \\\n",
       "0                                             20.268            \n",
       "1                                             76.285            \n",
       "2                                             55.618            \n",
       "3                                             55.340            \n",
       "4                                             57.736            \n",
       "\n",
       "   children_per_woman_total_fertility_with_projections  \\\n",
       "0                                              4.106     \n",
       "1                                              5.460     \n",
       "2                                              1.775     \n",
       "3                                              2.125     \n",
       "4                                              1.743     \n",
       "\n",
       "   child_mortality_0_5_year_olds_dying_per_1000_born  \\\n",
       "0                                             68.248   \n",
       "1                                             83.100   \n",
       "2                                             13.273   \n",
       "3                                             10.944   \n",
       "4                                             13.231   \n",
       "\n",
       "   cell_phones_per_100_people  cell_phones_total  \\\n",
       "0                    67.35057         23929713.0   \n",
       "1                    44.73498         13323952.0   \n",
       "2                   119.37634          3497950.0   \n",
       "3                   139.81460         61897379.0   \n",
       "4                   119.04397          3488524.0   \n",
       "\n",
       "   gnipercapita_ppp_current_international  \\\n",
       "0                                    2000   \n",
       "1                                    6060   \n",
       "2                                   12120   \n",
       "3                                   20270   \n",
       "4                                   10060   \n",
       "\n",
       "   fixed_line_subscribers_per_100_people  \\\n",
       "0                                0.33428   \n",
       "1                                0.54079   \n",
       "2                                8.42984   \n",
       "3                               21.52728   \n",
       "4                               17.23933   \n",
       "\n",
       "   aged_65plus_labour_force_participation_rate_percent  \\\n",
       "0                                             22.652     \n",
       "1                                             66.668     \n",
       "2                                              8.151     \n",
       "3                                             15.118     \n",
       "4                                             23.836     \n",
       "\n",
       "   inflation_annual_percent  \n",
       "0                   4.87344  \n",
       "1                  31.13638  \n",
       "2                   1.37489  \n",
       "3                  25.34918  \n",
       "4                   2.23157  \n",
       "\n",
       "[5 rows x 72 columns]"
      ]
     },
     "execution_count": 5,
     "metadata": {},
     "output_type": "execute_result"
    }
   ],
   "source": [
    "# df.insert(0, column='qcut_3', value='default')\n",
    "qcut_3 = pd.qcut(df.life_expectancy_years, q=3, precision=1)\n",
    "df.insert(0, column='qcut_3', value=qcut_3)\n",
    "df.head()"
   ]
  },
  {
   "cell_type": "code",
   "execution_count": 7,
   "metadata": {},
   "outputs": [
    {
     "data": {
      "text/plain": [
       "(58.3, 71.9]    43\n",
       "(77.7, 84.0]    42\n",
       "(71.9, 77.7]    42\n",
       "Name: qcut_3, dtype: int64"
      ]
     },
     "execution_count": 7,
     "metadata": {},
     "output_type": "execute_result"
    }
   ],
   "source": [
    "df.qcut_3.value_counts()"
   ]
  },
  {
   "cell_type": "code",
   "execution_count": null,
   "metadata": {
    "collapsed": true
   },
   "outputs": [],
   "source": []
  },
  {
   "cell_type": "code",
   "execution_count": 276,
   "metadata": {
    "collapsed": true
   },
   "outputs": [],
   "source": [
    "drop_list = list(df.filter(regex='life_expectancy'))\n",
    "drop_list.extend(['geo', 'name'])\n",
    "df.drop(drop_list, axis=1, inplace=True)\n",
    "df.rename(columns={new_column: 'life_expectancy_percentile'}, inplace=True)\n",
    "df.to_csv('gap-minder-life-expectancy-percentile.csv', index=False)"
   ]
  },
  {
   "cell_type": "code",
   "execution_count": null,
   "metadata": {
    "collapsed": true
   },
   "outputs": [],
   "source": []
  }
 ],
 "metadata": {
  "kernelspec": {
   "display_name": ".env-data-munging",
   "language": "python",
   "name": ".env-data-munging"
  },
  "language_info": {
   "codemirror_mode": {
    "name": "ipython",
    "version": 3
   },
   "file_extension": ".py",
   "mimetype": "text/x-python",
   "name": "python",
   "nbconvert_exporter": "python",
   "pygments_lexer": "ipython3",
   "version": "3.6.5"
  }
 },
 "nbformat": 4,
 "nbformat_minor": 4
}
