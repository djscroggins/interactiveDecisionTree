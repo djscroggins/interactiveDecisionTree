{
 "cells": [
  {
   "cell_type": "code",
   "execution_count": 270,
   "metadata": {},
   "outputs": [],
   "source": [
    "import pandas as pd"
   ]
  },
  {
   "cell_type": "code",
   "execution_count": 271,
   "metadata": {},
   "outputs": [],
   "source": [
    "df = pd.read_csv('gapMinder.csv')"
   ]
  },
  {
   "cell_type": "code",
   "execution_count": 272,
   "metadata": {},
   "outputs": [
    {
     "data": {
      "text/plain": [
       "count    127.000000\n",
       "mean      73.867874\n",
       "std        7.018941\n",
       "min       58.360000\n",
       "25%       68.695000\n",
       "50%       75.490000\n",
       "75%       79.595000\n",
       "max       84.030000\n",
       "Name: life_expectancy_years, dtype: float64"
      ]
     },
     "execution_count": 272,
     "metadata": {},
     "output_type": "execute_result"
    }
   ],
   "source": [
    "df.life_expectancy_years.describe()"
   ]
  },
  {
   "cell_type": "code",
   "execution_count": 273,
   "metadata": {},
   "outputs": [
    {
     "name": "stdout",
     "output_type": "stream",
     "text": [
      "68.695 75.49 79.595 84.03\n"
     ]
    }
   ],
   "source": [
    "twenty_fifth_percentile = df.life_expectancy_years.quantile(0.25)\n",
    "fiftieth_percentile = df.life_expectancy_years.quantile(0.5)\n",
    "seventy_fith_percentile = df.life_expectancy_years.quantile(0.75)\n",
    "_max = df.life_expectancy_years.max()\n",
    "print(twenty_fifth_percentile, fiftieth_percentile, seventy_fith_percentile, _max)"
   ]
  },
  {
   "cell_type": "code",
   "execution_count": 274,
   "metadata": {},
   "outputs": [],
   "source": [
    "column = 'life_expectancy_years'\n",
    "new_column = 'lep'\n",
    "\n",
    "# Create new life expectancy percentile column, default fourth quartile\n",
    "values = ('fourth_quartile' for _ in range(0, df.shape[0]))\n",
    "lep_df = pd.DataFrame(values)\n",
    "df.insert(0, column='lep', value=lep_df)\n",
    "\n",
    "# Populate with percentile categories\n",
    "df.loc[(df[column] > 0) & (df[column] <= twenty_fifth_percentile), new_column] = 'first_quartile'\n",
    "df.loc[(df[column] > twenty_fifth_percentile) & (df[column] <= fiftieth_percentile), new_column] = 'second_quartile'\n",
    "df.loc[(df[column] > fiftieth_percentile) & (df[column] <= seventy_fith_percentile), new_column] = 'third_quartile'"
   ]
  },
  {
   "cell_type": "code",
   "execution_count": 275,
   "metadata": {},
   "outputs": [
    {
     "name": "stdout",
     "output_type": "stream",
     "text": [
      "count                 127\n",
      "unique                  4\n",
      "top       second_quartile\n",
      "freq                   32\n",
      "Name: lep, dtype: object\n",
      "second_quartile    32\n",
      "first_quartile     32\n",
      "fourth_quartile    32\n",
      "third_quartile     31\n",
      "Name: lep, dtype: int64\n"
     ]
    }
   ],
   "source": [
    "print(df[new_column].describe())\n",
    "print(df[new_column].value_counts())"
   ]
  },
  {
   "cell_type": "code",
   "execution_count": 276,
   "metadata": {},
   "outputs": [],
   "source": [
    "drop_list = list(df.filter(regex='life_expectancy'))\n",
    "drop_list.extend(['geo', 'name'])\n",
    "df.drop(drop_list, axis=1, inplace=True)\n",
    "df.rename(columns={new_column: 'life_expectancy_percentile'}, inplace=True)\n",
    "df.to_csv('gap-minder-life-expectancy-percentile.csv', index=False)"
   ]
  },
  {
   "cell_type": "code",
   "execution_count": null,
   "metadata": {},
   "outputs": [],
   "source": []
  }
 ],
 "metadata": {
  "kernelspec": {
   "display_name": "Python 3",
   "language": "python",
   "name": "python3"
  },
  "language_info": {
   "codemirror_mode": {
    "name": "ipython",
    "version": 3
   },
   "file_extension": ".py",
   "mimetype": "text/x-python",
   "name": "python",
   "nbconvert_exporter": "python",
   "pygments_lexer": "ipython3",
   "version": "3.6.2"
  }
 },
 "nbformat": 4,
 "nbformat_minor": 1
}
